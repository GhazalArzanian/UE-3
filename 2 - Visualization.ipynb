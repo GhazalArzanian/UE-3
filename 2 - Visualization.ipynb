{
 "cells": [
  {
   "cell_type": "code",
   "execution_count": 9,
   "id": "e22367d0-99bd-4951-936f-e468d5f44223",
   "metadata": {},
   "outputs": [
    {
     "name": "stdout",
     "output_type": "stream",
     "text": [
      "   YEAR STATE  Cesarean Delivery Rate  Drug Overdose Mortality per 100,000  \\\n",
      "0  2005    AL                    31.8                                  6.3   \n",
      "1  2005    AK                    21.9                                 11.4   \n",
      "2  2005    AZ                    24.7                                 14.1   \n",
      "3  2005    AR                    31.5                                 10.1   \n",
      "4  2005    CA                    30.7                                  9.0   \n",
      "\n",
      "   Percent of Babies Born to Unmarried Mothers  Suicide Mortality per 100,000  \\\n",
      "0                                         35.7                           11.5   \n",
      "1                                         36.0                           19.9   \n",
      "2                                         43.1                           16.4   \n",
      "3                                         40.2                           14.3   \n",
      "4                                         35.7                            9.1   \n",
      "\n",
      "   Teen Births per 1,000  \n",
      "0                   49.7  \n",
      "1                   37.3  \n",
      "2                   58.2  \n",
      "3                   59.1  \n",
      "4                   38.8  \n"
     ]
    },
    {
     "data": {
      "text/html": [
       "\n",
       "        <iframe\n",
       "            width=\"100%\"\n",
       "            height=\"650\"\n",
       "            src=\"http://127.0.0.1:8054/\"\n",
       "            frameborder=\"0\"\n",
       "            allowfullscreen\n",
       "            \n",
       "        ></iframe>\n",
       "        "
      ],
      "text/plain": [
       "<IPython.lib.display.IFrame at 0x1e75c43a2d0>"
      ]
     },
     "metadata": {},
     "output_type": "display_data"
    },
    {
     "name": "stdout",
     "output_type": "stream",
     "text": [
      "Cesarean Delivery Rate\n",
      "<class 'str'>\n"
     ]
    }
   ],
   "source": [
    "from dash import Dash, dcc, Output, Input, html  # pip install dash\n",
    "import dash_bootstrap_components as dbc    # pip install dash-bootstrap-components\n",
    "import plotly.express as px\n",
    "import pandas as pd                        # pip install pandas\n",
    "import webbrowser\n",
    "from threading import Timer\n",
    "\n",
    "# Incorporate data into the app\n",
    "# Source - https://www.cdc.gov/nchs/pressroom/stats_of_the_states.htm\n",
    "df = pd.read_csv(\"https://raw.githubusercontent.com/Coding-with-Adam/Dash-by-Plotly/master/Good_to_Know/Dash2.0/social_capital.csv\")\n",
    "print(df.head())\n",
    "\n",
    "# Build your components\n",
    "app = Dash(__name__, external_stylesheets=[dbc.themes.LUX])\n",
    "heatmap = dcc.Graph(figure={})\n",
    "histogram = dcc.Graph(figure={})\n",
    "scatterplot = dcc.Graph(figure={})\n",
    "wordcloud = dcc.Graph(figure={})\n",
    "barchart = dcc.Graph(figure={})\n",
    "dropdown = dcc.Dropdown(options=[{'label': col, 'value': col} for col in df.columns.values[2:]],\n",
    "                        value='Cesarean Delivery Rate',  # initial value displayed when page first loads\n",
    "                        clearable=False)\n",
    "\n",
    "# Customize your own Layout\n",
    "app.layout = dbc.Container([\n",
    "    dbc.Row([\n",
    "        dbc.Col(dropdown, width=12)  # Dropdown spanning full width\n",
    "    ]),\n",
    "    dbc.Row([\n",
    "        dbc.Col(heatmap, width=6),  # Heatmap on the left\n",
    "        dbc.Col([\n",
    "            histogram,             # Histogram on top right\n",
    "            scatterplot            # Scatterplot below histogram\n",
    "        ], width=6)\n",
    "    ]),\n",
    "    dbc.Row([\n",
    "        dbc.Col(wordcloud, width=6),  # Wordcloud on the left\n",
    "        dbc.Col(barchart, width=6)    # Bar chart on the right\n",
    "    ])\n",
    "], fluid=True)\n",
    "\n",
    "# Callback allows components to interact\n",
    "@app.callback(\n",
    "    Output(heatmap, 'figure'),\n",
    "    Output(histogram, 'figure'),\n",
    "    Output(scatterplot, 'figure'),\n",
    "    Output(wordcloud, 'figure'),\n",
    "    Output(barchart, 'figure'),\n",
    "    Input(dropdown, 'value')\n",
    ")\n",
    "def update_graph(column_name):  # Function arguments come from the component property of the Input\n",
    "\n",
    "    print(column_name)\n",
    "    print(type(column_name))\n",
    "\n",
    "    # Heatmap\n",
    "    heatmap_fig = px.choropleth(data_frame=df,\n",
    "                                locations='STATE',\n",
    "                                locationmode=\"USA-states\",\n",
    "                                scope=\"usa\",\n",
    "                                height=600,\n",
    "                                color=column_name,\n",
    "                                animation_frame='YEAR')\n",
    "\n",
    "    # Histogram\n",
    "    histogram_fig = px.histogram(df, x=column_name, title=f'Histogram of {column_name}')\n",
    "\n",
    "    # Scatterplot\n",
    "    scatterplot_fig = px.scatter(df, x='YEAR', y=column_name, title=f'Scatterplot of {column_name} over Years')\n",
    "\n",
    "    # Wordcloud (dummy placeholder, actual wordcloud implementation needed)\n",
    "    wordcloud_fig = px.scatter(df, x='YEAR', y=column_name, title=f'Wordcloud Placeholder for {column_name}')\n",
    "\n",
    "    # Bar chart\n",
    "    barchart_fig = px.bar(df, x='STATE', y=column_name, title=f'Bar Chart of {column_name} by State')\n",
    "\n",
    "    return heatmap_fig, histogram_fig, scatterplot_fig, wordcloud_fig, barchart_fig\n",
    "\n",
    "def open_browser():\n",
    "    webbrowser.open_new(\"http://127.0.0.1:8054/\")\n",
    "\n",
    "if __name__ == '__main__':\n",
    "    Timer(1, open_browser).start()\n",
    "    app.run_server(debug=True, port=8054)\n"
   ]
  },
  {
   "cell_type": "code",
   "execution_count": null,
   "id": "be80f25c-5a37-4534-bf7a-aece5200fda7",
   "metadata": {},
   "outputs": [],
   "source": []
  }
 ],
 "metadata": {
  "kernelspec": {
   "display_name": "Python 3 (ipykernel)",
   "language": "python",
   "name": "python3"
  },
  "language_info": {
   "codemirror_mode": {
    "name": "ipython",
    "version": 3
   },
   "file_extension": ".py",
   "mimetype": "text/x-python",
   "name": "python",
   "nbconvert_exporter": "python",
   "pygments_lexer": "ipython3",
   "version": "3.12.1"
  }
 },
 "nbformat": 4,
 "nbformat_minor": 5
}

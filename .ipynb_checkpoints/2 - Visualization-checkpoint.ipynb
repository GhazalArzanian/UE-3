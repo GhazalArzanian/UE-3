{
 "cells": [
  {
   "cell_type": "code",
   "execution_count": 24,
   "id": "e22367d0-99bd-4951-936f-e468d5f44223",
   "metadata": {},
   "outputs": [],
   "source": [
    "from dash import Dash, dcc, Output, Input, html  # pip install dash\n",
    "import dash_bootstrap_components as dbc    # pip install dash-bootstrap-components\n",
    "import plotly.express as px\n",
    "import pandas as pd                        # pip install pandas\n",
    "import webbrowser\n",
    "from threading import Timer\n",
    "from wordcloud import WordCloud #pip install WordCloud\n",
    "import matplotlib.pyplot as plt\n",
    "import base64\n",
    "from io import BytesIO"
   ]
  },
  {
   "cell_type": "code",
   "execution_count": 25,
   "id": "e8c4a7ad-d6fc-4e1b-8f8f-9ea1bc0de698",
   "metadata": {},
   "outputs": [],
   "source": [
    "# Load the dataset\n",
    "file_path = 'data/cleaned_global_youtube_statistics.csv'\n",
    "df = pd.read_csv(file_path)\n",
    "\n"
   ]
  },
  {
   "cell_type": "code",
   "execution_count": 26,
   "id": "1733dc85-027b-4d01-a781-72548709c02f",
   "metadata": {},
   "outputs": [],
   "source": [
    "def generate_wordcloud(data):\n",
    "    wordcloud = WordCloud(width=800, height=400, background_color='white').generate(data)\n",
    "    return wordcloud\n",
    "def wordcloud_to_base64(wordcloud):\n",
    "    buffer = BytesIO()\n",
    "    wordcloud.to_image().save(buffer, format=\"PNG\")\n",
    "    img_str = base64.b64encode(buffer.getvalue()).decode()\n",
    "    return f\"data:image/png;base64,{img_str}\"\n",
    "\n"
   ]
  },
  {
   "cell_type": "code",
   "execution_count": 27,
   "id": "be80f25c-5a37-4534-bf7a-aece5200fda7",
   "metadata": {},
   "outputs": [],
   "source": [
    "# Build your components\n",
    "app = Dash(__name__, external_stylesheets=[dbc.themes.LUX])\n",
    "heatmap = dcc.Graph(figure={})\n",
    "histogram = dcc.Graph(figure={})\n",
    "scatterplot = dcc.Graph(figure={})\n",
    "wordcloud = html.Img(id='wordcloud-img')  # Updated to use 'id' for the Img component\n",
    "barchart = dcc.Graph(figure={})\n",
    "dropdown = dcc.Dropdown(options=[{'label': col, 'value': col} for col in df.columns],\n",
    "                        value='subscribers',  # initial value displayed when page first loads\n",
    "                        clearable=False)"
   ]
  },
  {
   "cell_type": "code",
   "execution_count": 28,
   "id": "d49e94ee-035b-4715-893f-8c3c8efb86cf",
   "metadata": {},
   "outputs": [],
   "source": [
    "app.layout = dbc.Container([\n",
    "    dbc.Row([\n",
    "        dbc.Col(html.H1(\"YouTube Statistics Data Visualization\", className=\"text-center\"), width=12)  # Title\n",
    "    ]),\n",
    "    dbc.Row([\n",
    "        dbc.Col(\n",
    "            dbc.Row([\n",
    "                dbc.Col(dropdown, width=12, style={'margin-bottom': '20px'}),\n",
    "                dbc.Col(heatmap, width=12)\n",
    "            ], className='h-100'), width=6, className='d-flex flex-column h-100'),\n",
    "        dbc.Col(\n",
    "            dbc.Row([\n",
    "                dbc.Col(histogram, width=12),\n",
    "                dbc.Col(scatterplot, width=12)\n",
    "            ], className='h-100'), width=6, className='d-flex flex-column h-100')\n",
    "    ], style={'height': '600px'}),\n",
    "    dbc.Row([\n",
    "        dbc.Col(wordcloud, width=6),  # Wordcloud on the left\n",
    "        dbc.Col(barchart, width=6)  # Bar chart on the right\n",
    "    ])\n",
    "], fluid=True)"
   ]
  },
  {
   "cell_type": "code",
   "execution_count": 29,
   "id": "c70bc620-d1b5-4a87-81d5-f120638ddf24",
   "metadata": {},
   "outputs": [],
   "source": [
    "@app.callback(\n",
    "    Output(heatmap, 'figure'),\n",
    "    Output(histogram, 'figure'),\n",
    "    Output(scatterplot, 'figure'),\n",
    "    Output('wordcloud-img', 'src'),  # Update to use 'src' of html.Img\n",
    "    Output(barchart, 'figure'),\n",
    "    Input(dropdown, 'value')\n",
    ")\n",
    "def update_graph(column_name):  # Function arguments come from the component property of the Input\n",
    "\n",
    "    print(column_name)\n",
    "    print(type(column_name))\n",
    "\n",
    "    # Ensure the selected column is numeric\n",
    "    if df[column_name].dtype == 'object':\n",
    "        df[column_name] = pd.to_numeric(df[column_name], errors='coerce')\n",
    "\n",
    "    # Color scheme\n",
    "    color_discrete_sequence = px.colors.qualitative.Set3\n",
    "\n",
    "    # Heatmap\n",
    "    heatmap_fig = px.choropleth(data_frame=df,\n",
    "                                locations='Country',\n",
    "                                locationmode=\"country names\",\n",
    "                                scope=\"world\",\n",
    "                                height=600,\n",
    "                                color=column_name,\n",
    "                                color_continuous_scale='Viridis',\n",
    "                                labels={column_name: column_name})  # Ensure the color legend updates correctly\n",
    "\n",
    "    # Histogram\n",
    "    histogram_fig = px.histogram(df, x=column_name, title=f'Histogram of {column_name}',\n",
    "                                 color_discrete_sequence=color_discrete_sequence)\n",
    "\n",
    "    # Scatterplot\n",
    "    scatterplot_fig = px.scatter(df, x='created_year', y=column_name, title=f'Scatterplot of {column_name} over Years',\n",
    "                                 color_discrete_sequence=color_discrete_sequence)\n",
    "\n",
    "    # Generate word cloud\n",
    "    wordcloud_data = ' '.join(df['category'].dropna().astype(str))\n",
    "    wc = generate_wordcloud(wordcloud_data)\n",
    "    wc_img = wordcloud_to_base64(wc)\n",
    "\n",
    "    # Bar chart\n",
    "    barchart_fig = px.bar(df, x='Country', y=column_name, title=f'Bar Chart of {column_name} by Country',\n",
    "                          color_discrete_sequence=color_discrete_sequence)\n",
    "\n",
    "    return heatmap_fig, histogram_fig, scatterplot_fig, wc_img, barchart_fig\n"
   ]
  },
  {
   "cell_type": "code",
   "execution_count": 30,
   "id": "b04a2bf0-5289-49bb-9c88-21bcd29aafad",
   "metadata": {},
   "outputs": [],
   "source": [
    "def open_browser():\n",
    "    webbrowser.open_new(\"http://127.0.0.1:8054/\")\n"
   ]
  },
  {
   "cell_type": "code",
   "execution_count": 31,
   "id": "4a4e7759-de0e-465c-a861-962eb2ef59ae",
   "metadata": {},
   "outputs": [
    {
     "data": {
      "text/html": [
       "\n",
       "        <iframe\n",
       "            width=\"100%\"\n",
       "            height=\"650\"\n",
       "            src=\"http://127.0.0.1:8054/\"\n",
       "            frameborder=\"0\"\n",
       "            allowfullscreen\n",
       "            \n",
       "        ></iframe>\n",
       "        "
      ],
      "text/plain": [
       "<IPython.lib.display.IFrame at 0x1d052a7a150>"
      ]
     },
     "metadata": {},
     "output_type": "display_data"
    },
    {
     "name": "stdout",
     "output_type": "stream",
     "text": [
      "subscribers\n",
      "<class 'str'>\n",
      "subscribers\n",
      "<class 'str'>\n"
     ]
    }
   ],
   "source": [
    "if __name__ == '__main__':\n",
    "    Timer(1, open_browser).start()\n",
    "    app.run_server(debug=True, port=8054)\n"
   ]
  },
  {
   "cell_type": "code",
   "execution_count": null,
   "id": "376ffa41-47c5-4fc4-990e-74a581d61b90",
   "metadata": {},
   "outputs": [],
   "source": []
  }
 ],
 "metadata": {
  "kernelspec": {
   "display_name": "Python 3 (ipykernel)",
   "language": "python",
   "name": "python3"
  },
  "language_info": {
   "codemirror_mode": {
    "name": "ipython",
    "version": 3
   },
   "file_extension": ".py",
   "mimetype": "text/x-python",
   "name": "python",
   "nbconvert_exporter": "python",
   "pygments_lexer": "ipython3",
   "version": "3.12.1"
  }
 },
 "nbformat": 4,
 "nbformat_minor": 5
}
